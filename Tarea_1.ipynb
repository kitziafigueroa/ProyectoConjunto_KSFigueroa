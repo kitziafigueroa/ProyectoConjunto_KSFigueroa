{
 "cells": [
  {
   "cell_type": "markdown",
   "metadata": {},
   "source": [
    "<img style=\"float: left; margin: 30px 15px 15px 15px;\" src=\"https://pngimage.net/wp-content/uploads/2018/06/logo-iteso-png-5.png\" width=\"300\" height=\"500\" />\n",
    "\n",
    "### <div style=\"text-align: right\"> <font color=\"darkred\"> TAREA 1 <div style=\"text-align: right\"> <font color=\"darkblue\"> Simulación de Procesos Financieros <div style=\"text-align: right\"> <font color=\"Green\"> Expectativas del curso \n",
    "\n"
   ]
  },
  {
   "cell_type": "markdown",
   "metadata": {},
   "source": [
    "#### *Nombres*:\n",
    "* Kitzia Sarahi Figueroa Monroy\n",
    "* Ana Paola Villegas Rivas\n",
    "\n",
    "#### *Nombre  del repositorio:*\n",
    "ProyectoConjunto_KSFigueroa\n",
    "\n",
    "#### *Links:*\n",
    "https://github.com/kitziafigueroa/ProyectoConjunto_KSFigueroa\n",
    "\n",
    "https://github.com/apaolavr/ProyectoConjunto_KSFigueroa\n"
   ]
  },
  {
   "cell_type": "markdown",
   "metadata": {},
   "source": [
    "### 1. Debe realizar una presentación describiendo sus expectativas del curso haciendo uso de la sintaxis Markdown."
   ]
  },
  {
   "cell_type": "markdown",
   "metadata": {},
   "source": [
    "#### <font color=\"darkred\"><center> EXPECTATIVAS DEL CURSO \n",
    "<div class='text-justify'> A lo largo de nuestra formacion como  <font color=\"darkblue\"> $ingenieros financieros$ <font color=\"black\">hemos visto distintas materias que combinan matematicas y finanzas, y Es por eso que para este curso de simulacion de procesos financieros, nuestras expectativas de la materia, asi como de nosotros, van en aumento. El aprender a hacer uso de todas las herramientas disponibles es fundamental, por eso para esta materia esperamos ser capaces de usar la programacion dentro de las finanzas y saber onterpretar la informacion que nos arroja, poder tomar una decision en base a los resultados y solucionar problemas.</div>"
   ]
  },
  {
   "cell_type": "markdown",
   "metadata": {},
   "source": [
    "### 2. Debe reportar el resumen de un articulo "
   ]
  },
  {
   "cell_type": "markdown",
   "metadata": {
    "collapsed": true
   },
   "source": [
    "### <font color=\"darkred\"><center> *Resumen de articulo*<font color=\"gray\"><center> Python is becoming the world’s most popular coding language\n",
    "<img src=\"https://encrypted-tbn0.gstatic.com/images?q=tbn:ANd9GcS3kf6ZTospvdkbQ0G6xVraiA0tOTx8zrUDrP0aIsJ0cYLRb5nKag\" width=\"200\" height=\"50\" align=\"center\">"
   ]
  },
  {
   "cell_type": "markdown",
   "metadata": {},
   "source": [
    "<img style=\"float: left; margin: 30px 15px 15px 15px;\" src=\"https://www.economist.com/sites/default/files/imagecache/640-width/20180728_WOC883.png\" width=\"200\" height=\"300\" />\n",
    "\n",
    "<div class='text-justify'> Guido van Rosum quien es un informatico holandés es quien crea Python, y despues de 30 años de que sale al mercado supera a sus rivales.En los ultimos meses los americanos han estado googleando frecuentemente el codigo, debido a su facilidad de entendimiento, lo que lo llevo a adquirir cierta popularidad. </div>\n",
    " \n",
    " \n",
    "<div class='text-justify'> Tenia los principios del codigo en claro,que fuera facil de leer, maleable para los propositos ded cada usuario y un nombre corto y unico. Debido a la sintaxis y la manera de identar y gracias a los llamados \" Pythonistas\" que suben paqueterias con informacion suficiente para poder terner una diversificacion de lenguaje y utilizarlo en dstintas areas, desde creacion de juegos hasta astronomia y puede ser instalado en un programa de python en segundos.</div>\n",
    "\n",
    "\n",
    "<div class='text-justify'> Esto quiere decir la CIA la puede utilizar, asi como Google, Pixar e incluso Spotify. Una de sus paqueterias mas usadas es “machine learning” , para empezar a ver patrones que de otra manera no podrian ser detectados.</div>\n",
    "\n",
    "<font color=\"blue\"> ventajas de este lenguaje:\n",
    "    * simplicidad \n",
    "    * flexible ante usuario\n",
    "    *lectura de codigo entendible \n",
    "<font color=\"black\"> ya que el usuario puede buscar como usar <font color=\"blue\">*python* <font color=\"black\">y aprender por si mismo </div>"
   ]
  },
  {
   "cell_type": "markdown",
   "metadata": {
    "collapsed": true
   },
   "source": [
    "*TAREA 1 FORMULAS*\n",
    "\n",
    "1. La formula del rectangulo se obtiene al interpolar f\n",
    "(x) por medio del polinomio constante $P_0 (x)=\n",
    "\\ f ( \\frac{a + \\  b}{2})$\n",
    "\\begin{equation}\n",
    "\\int_{a}^{b} f(x) \\cdot dx = (b-a) f(\\frac{a + \\ b}{2})= R(f)\n",
    "\\end{equation}\n",
    "\n",
    "2. La formula del trapecio se obtiene al interpolar f por medio de un polinomio lineal $P_1 (x)= ax+ \\beta $ que satisfaga f(a)=$P_1 (a)$, y =$P_1 (b)$. Determinar el polinomio es equivalente a resolver un sistema de ecuaciones para $\\alpha$ y $\\beta$ cuya solucion es\n",
    "\n",
    "\\begin{equation}\n",
    "\\alpha=  \\frac{f(b)-f(a) \\ }{b-a} \\beta =  \\frac{f(b)a-f(a)b \\ }{b-a}\n",
    "\\end{equation}\n",
    "Al integrar $P_1 (x)=$ en el interbalo [a,b] se obtiene de la regla del trapecio con $h=b-a$ \n",
    "\n",
    "\\begin{equation}\n",
    "\\int_{a}^{b} f(x) \\cdot dx = \\int_{a}^{b} p_1(x)dx = \\frac{h  \\ }{2}(f(a) + f(b))=T (f)\n",
    "\\end{equation}\n",
    "\n",
    "El error esta dado por \n",
    "\\begin{equation}\n",
    "\\int_{a}^{b} f(x) \\cdot dx -T(f)= - \\frac{h^3 \\ }{12}(f''(n). a<n<b\n",
    "\\end{equation}\n",
    "\n",
    "3. Por último al integrar el polinomio cuadrático que interpola a $f$ en $x = a $,  $\\ x= ( \\frac{a + \\  b}{2})$ y $x = b$ se obtiene la regla de Simpson con $\\ h =\\frac{b-a}{2}$\n",
    "\n",
    "\\begin{equation}\n",
    "\\int_{a}^{b} f(x) \\cdot dx = \\int_{a}^{b} p_2(x)dx = \\frac{h  \\ }{3}(f(a) + 4f(a+h)+f(b))=S (f)\n",
    "\\end{equation}\n",
    "\n",
    "El error que se comete al usar Simpson es\n",
    "\\begin{equation}\n",
    "\\int_{a}^{b} f(x) \\cdot dx -S(f)= - \\frac{h^5 \\ }{12} (f^(4)(n)). a<n<b\n",
    "\\end{equation}\n"
   ]
  },
  {
   "cell_type": "code",
   "execution_count": 5,
   "metadata": {
    "collapsed": true
   },
   "outputs": [],
   "source": [
    "import numpy as np\n",
    "import pandas as pd\n",
    "import sympy as sym"
   ]
  },
  {
   "cell_type": "code",
   "execution_count": 3,
   "metadata": {},
   "outputs": [
    {
     "name": "stdout",
     "output_type": "stream",
     "text": [
      "[0, 1, 1, 2, 3, 5, 8, 13, 21, 34, 55, 89, 144, 233, 377, 610, 987, 1597, 2584, 4181, 6765, 10946, 17711, 28657, 46368, 75025, 121393, 196418, 317811, 514229, 832040, 1346269, 2178309, 3524578, 5702887, 9227465, 14930352, 24157817, 39088169, 63245986, 102334155, 165580141, 267914296, 433494437, 701408733, 1134903170, 1836311903, 2971215073, 4807526976, 7778742049, 12586269025, 20365011074, 32951280099, 53316291173, 86267571272, 139583862445, 225851433717, 365435296162, 591286729879, 956722026041, 1548008755920, 2504730781961, 4052739537881, 6557470319842, 10610209857723, 17167680177565, 27777890035288, 44945570212853, 72723460248141, 117669030460994, 190392490709135, 308061521170129, 498454011879264, 806515533049393, 1304969544928657, 2111485077978050, 3416454622906707, 5527939700884757, 8944394323791464, 14472334024676221, 23416728348467685, 37889062373143906, 61305790721611591, 99194853094755497, 160500643816367088, 259695496911122585, 420196140727489673, 679891637638612258, 1100087778366101931, 1779979416004714189, 2880067194370816120, 4660046610375530309, 7540113804746346429, 12200160415121876738, 19740274219868223167, 31940434634990099905, 51680708854858323072, 83621143489848422977, 135301852344706746049, 218922995834555169026, 354224848179261915075, 573147844013817084101]\n"
     ]
    }
   ],
   "source": [
    "a = 0\n",
    "b = 1\n",
    "array=[0,1]\n",
    "n=0\n",
    "\n",
    "while n <100:\n",
    "    c=a+b\n",
    "    a=b\n",
    "    b=c\n",
    "    array.append(c)\n",
    "    n = n+1\n",
    "    \n",
    "print(array)\n",
    "\n"
   ]
  },
  {
   "cell_type": "code",
   "execution_count": 4,
   "metadata": {},
   "outputs": [
    {
     "name": "stdout",
     "output_type": "stream",
     "text": [
      "2\n",
      "3\n",
      "5\n",
      "7\n",
      "11\n",
      "13\n",
      "17\n",
      "19\n",
      "23\n",
      "29\n",
      "31\n",
      "37\n",
      "41\n",
      "43\n",
      "47\n",
      "53\n",
      "59\n",
      "61\n",
      "67\n",
      "71\n",
      "73\n",
      "79\n",
      "83\n",
      "89\n",
      "97\n"
     ]
    }
   ],
   "source": [
    "for x in range(0,100):\n",
    "    if sym.isprime(x):\n",
    "        print(x)"
   ]
  },
  {
   "cell_type": "code",
   "execution_count": null,
   "metadata": {
    "collapsed": true
   },
   "outputs": [],
   "source": []
  }
 ],
 "metadata": {
  "kernelspec": {
   "display_name": "Python 3",
   "language": "python",
   "name": "python3"
  },
  "language_info": {
   "codemirror_mode": {
    "name": "ipython",
    "version": 3
   },
   "file_extension": ".py",
   "mimetype": "text/x-python",
   "name": "python",
   "nbconvert_exporter": "python",
   "pygments_lexer": "ipython3",
   "version": "3.7.2"
  }
 },
 "nbformat": 4,
 "nbformat_minor": 2
}
